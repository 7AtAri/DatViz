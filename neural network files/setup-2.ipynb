{
 "cells": [
  {
   "cell_type": "code",
   "execution_count": 51,
   "metadata": {
    "tags": []
   },
   "outputs": [],
   "source": [
    "#!pip install gdown\n",
    "#!pip install --upgrade pip\n",
    "#!pip install mayavi\n",
    "#!pip install dash\n",
    "\n",
    "import argparse\n",
    "from tqdm import tqdm\n",
    "import cv2\n",
    "import torch\n",
    "import random\n",
    "import numpy as np\n",
    "from sklearn.manifold import TSNE\n",
    "import matplotlib.pyplot as plt\n",
    "\n",
    "from animals_dataset import AnimalsDataset, collate_skip_empty, colors_per_class\n",
    "from resnet import ResNet101\n",
    "from os import path, listdir\n",
    "import torch\n",
    "from torchvision import transforms\n",
    "import random\n",
    "\n",
    "from PIL import Image, ImageFile\n",
    "ImageFile.LOAD_TRUNCATED_IMAGES = True"
   ]
  },
  {
   "cell_type": "code",
   "execution_count": 56,
   "metadata": {
    "tags": []
   },
   "outputs": [
    {
     "data": {
      "text/plain": [
       "str"
      ]
     },
     "execution_count": 56,
     "metadata": {},
     "output_type": "execute_result"
    }
   ],
   "source": [
    "import ntpath\n",
    "petID=ntpath.basename(\"/workspace/tsne.png\")\n",
    "type(petID)"
   ]
  },
  {
   "cell_type": "code",
   "execution_count": null,
   "metadata": {
    "tags": []
   },
   "outputs": [],
   "source": []
  },
  {
   "cell_type": "code",
   "execution_count": 58,
   "metadata": {
    "tags": []
   },
   "outputs": [],
   "source": [
    "from io import BytesIO"
   ]
  },
  {
   "cell_type": "code",
   "execution_count": null,
   "metadata": {},
   "outputs": [],
   "source": [
    "# http://localhost:8787\n",
    "# port-forward awahl-pod 8787:8888"
   ]
  },
  {
   "cell_type": "code",
   "execution_count": 49,
   "metadata": {
    "tags": []
   },
   "outputs": [
    {
     "name": "stdout",
     "output_type": "stream",
     "text": [
      "Get current working directory :  /workspace\n"
     ]
    }
   ],
   "source": [
    "# import gdown\n",
    "import os\n",
    "print('Get current working directory : ', os.getcwd())"
   ]
  },
  {
   "cell_type": "code",
   "execution_count": 34,
   "metadata": {
    "tags": []
   },
   "outputs": [],
   "source": [
    "os.chdir(\"/usr/src/app/data/cats_and_dogs/cats\")"
   ]
  },
  {
   "cell_type": "code",
   "execution_count": 47,
   "metadata": {
    "tags": []
   },
   "outputs": [],
   "source": [
    "os.chdir(\"/workspace\")"
   ]
  },
  {
   "cell_type": "code",
   "execution_count": 45,
   "metadata": {
    "tags": []
   },
   "outputs": [],
   "source": [
    "os.chdir(\"/workspace/cats_and_dogs/dogs\")"
   ]
  },
  {
   "cell_type": "code",
   "execution_count": 21,
   "metadata": {
    "tags": []
   },
   "outputs": [],
   "source": [
    "#!pip install -r requirements.txt"
   ]
  },
  {
   "cell_type": "code",
   "execution_count": null,
   "metadata": {},
   "outputs": [],
   "source": [
    "# a folder\n",
    "url = \"https://drive.google.com/drive/folders/15uNXeRBIhVvZJIhL4yTw4IsStMhUaaxl\"\n",
    "gdown.download_folder(url, quiet=True, use_cookies=False)"
   ]
  },
  {
   "cell_type": "code",
   "execution_count": null,
   "metadata": {},
   "outputs": [],
   "source": [
    "# a file\n",
    "url = \"https://drive.google.com/uc?id=16tPNceHdB2oQOTaknP35rJQr_Bsa98Jq\"\n",
    "output = \"images2.zip\"\n",
    "#gdown.download(url, output, quiet=False)"
   ]
  },
  {
   "cell_type": "code",
   "execution_count": null,
   "metadata": {},
   "outputs": [],
   "source": [
    "gdown.cached_download(url, output, postprocess=gdown.extractall)"
   ]
  },
  {
   "cell_type": "code",
   "execution_count": 22,
   "metadata": {
    "tags": []
   },
   "outputs": [],
   "source": [
    "!cp -r -b /usr/src/app/data/cats_and_dogs /workspace"
   ]
  },
  {
   "cell_type": "code",
   "execution_count": 48,
   "metadata": {
    "tags": []
   },
   "outputs": [
    {
     "name": "stdout",
     "output_type": "stream",
     "text": [
      ".   animals_dataset.py\trequirements.txt  setup-2.ipynb  tsne-3d_.py\n",
      "..  cats_and_dogs\tresnet.py\t  tsne-3d.py\t tsne.py\n"
     ]
    }
   ],
   "source": [
    "!ls -a"
   ]
  },
  {
   "cell_type": "code",
   "execution_count": 10,
   "metadata": {
    "tags": []
   },
   "outputs": [],
   "source": [
    "!rm .DS_Store"
   ]
  },
  {
   "cell_type": "code",
   "execution_count": null,
   "metadata": {},
   "outputs": [],
   "source": [
    "#!unzip images2.zip -n"
   ]
  },
  {
   "cell_type": "code",
   "execution_count": 46,
   "metadata": {
    "tags": []
   },
   "outputs": [
    {
     "name": "stdout",
     "output_type": "stream",
     "text": [
      "rm: cannot remove '.ipynb_checkpoints': No such file or directory\n"
     ]
    }
   ],
   "source": [
    "!rm -r .ipynb_checkpoints"
   ]
  },
  {
   "cell_type": "code",
   "execution_count": null,
   "metadata": {},
   "outputs": [],
   "source": [
    "# 58311 Anzahl Bilder insgesamt\n",
    "# python3 tsne-3d-3.py --path /workspace/cats_and_dogs --num_images 58311"
   ]
  },
  {
   "cell_type": "code",
   "execution_count": null,
   "metadata": {},
   "outputs": [],
   "source": [
    "def visualize_tsne_images_go(tx, ty, tz, tsne_images, labels, plot_size=2000, max_image_size=100):\n",
    "  \n",
    " # Create a 3D scatter plot\n",
    "    fig = go.Figure()\n",
    "    \n",
    "    label_encoder = LabelEncoder()\n",
    "    label_encoder.fit(labels)\n",
    "    numeric_labels = label_encoder.transform(labels)\n",
    "\n",
    "    # Add scatter trace for the points\n",
    "    fig.add_trace(go.Scatter3d(\n",
    "        x=tx,\n",
    "        y=ty,\n",
    "        z=tz,\n",
    "        mode='markers',\n",
    "        marker=dict(\n",
    "            size=5,\n",
    "            color=numeric_labels,  # Use labels as colors\n",
    "            colorscale='Viridis',\n",
    "            opacity=0.8\n",
    "        )\n",
    "    ))\n",
    "    \n",
    "    # Add image trace for each image\n",
    "    for i, (x, y, z) in enumerate(zip(tx, ty, tz)):\n",
    "        tsne_images[y][x]  # Get the image from tsne_images\n",
    "        image = np.flip(image, axis=2)  # Flip image for correct RGB display\n",
    "\n",
    "        fig.add_trace(go.Scatter3d(\n",
    "            x=[x],\n",
    "            y=[y],\n",
    "            z=[z],\n",
    "            mode='markers',\n",
    "            marker=dict(\n",
    "                size=1,\n",
    "                color='blue',\n",
    "                opacity=0,\n",
    "                symbol=f\"data:image/png;base64,{image}\"\n",
    "            ),\n",
    "            hoverinfo='skip'\n",
    "        ))\n",
    "\n",
    "\n",
    "    # Customize the plot as desired\n",
    "    fig.update_layout(\n",
    "        title='T-SNE Visualization',\n",
    "        scene=dict(\n",
    "            xaxis_title='X',\n",
    "            yaxis_title='Y',\n",
    "            zaxis_title='Z'\n",
    "        )\n",
    "    )\n",
    "\n",
    "    # Save the plot as an HTML file\n",
    "    fig.write_html('/workspace/tsne_plot.html')\n",
    "    \n",
    "def visualize_tsne_images_points_go(tx, ty, tz, images, labels, plot_size=2000, max_image_size=100):\n",
    "    # Create a 3D scatter plot\n",
    "    label_encoder = LabelEncoder()\n",
    "    label_encoder.fit(labels)\n",
    "    numeric_labels = label_encoder.transform(labels)\n",
    "    \n",
    "    fig = go.Figure(data=[go.Scatter3d(\n",
    "        x=tx,\n",
    "        y=ty,\n",
    "        z=tz,\n",
    "        mode='markers',\n",
    "        marker=dict(\n",
    "            size=5,\n",
    "            color=numeric_labels,  # Color points based on labels\n",
    "            colorscale='Viridis',\n",
    "            opacity=0.8\n",
    "        )\n",
    "    )])\n",
    "\n",
    "    # Customize the plot as desired\n",
    "    fig.update_layout(\n",
    "        title='T-SNE Visualization',\n",
    "        scene=dict(\n",
    "            xaxis_title='X',\n",
    "            yaxis_title='Y',\n",
    "            zaxis_title='Z'\n",
    "        )\n",
    "    )\n",
    "\n",
    "    # Save the plot as an HTML file\n",
    "    fig.write_html('/workspace/tsne_plot.html')\n",
    "    "
   ]
  }
 ],
 "metadata": {
  "kernelspec": {
   "display_name": "Python 3 (ipykernel)",
   "language": "python",
   "name": "python3"
  },
  "language_info": {
   "codemirror_mode": {
    "name": "ipython",
    "version": 3
   },
   "file_extension": ".py",
   "mimetype": "text/x-python",
   "name": "python",
   "nbconvert_exporter": "python",
   "pygments_lexer": "ipython3",
   "version": "3.9.16"
  }
 },
 "nbformat": 4,
 "nbformat_minor": 4
}
